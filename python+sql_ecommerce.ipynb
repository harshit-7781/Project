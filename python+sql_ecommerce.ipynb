{
 "cells": [
  {
   "cell_type": "code",
   "execution_count": 8,
   "id": "77bd4984-d894-4919-bd8c-20a8c782d90b",
   "metadata": {},
   "outputs": [
    {
     "name": "stdout",
     "output_type": "stream",
     "text": [
      "Processing customers.csv\n",
      "NaN values before replacement:\n",
      "customer_id                 0\n",
      "customer_unique_id          0\n",
      "customer_zip_code_prefix    0\n",
      "customer_city               0\n",
      "customer_state              0\n",
      "dtype: int64\n",
      "\n",
      "Processing orders.csv\n",
      "NaN values before replacement:\n",
      "order_id                            0\n",
      "customer_id                         0\n",
      "order_status                        0\n",
      "order_purchase_timestamp            0\n",
      "order_approved_at                 160\n",
      "order_delivered_carrier_date     1783\n",
      "order_delivered_customer_date    2965\n",
      "order_estimated_delivery_date       0\n",
      "dtype: int64\n",
      "\n",
      "Processing sellers.csv\n",
      "NaN values before replacement:\n",
      "seller_id                 0\n",
      "seller_zip_code_prefix    0\n",
      "seller_city               0\n",
      "seller_state              0\n",
      "dtype: int64\n",
      "\n",
      "Processing products.csv\n",
      "NaN values before replacement:\n",
      "product_id                      0\n",
      "product category              610\n",
      "product_name_length           610\n",
      "product_description_length    610\n",
      "product_photos_qty            610\n",
      "product_weight_g                2\n",
      "product_length_cm               2\n",
      "product_height_cm               2\n",
      "product_width_cm                2\n",
      "dtype: int64\n",
      "\n",
      "Processing geolocation.csv\n",
      "NaN values before replacement:\n",
      "geolocation_zip_code_prefix    0\n",
      "geolocation_lat                0\n",
      "geolocation_lng                0\n",
      "geolocation_city               0\n",
      "geolocation_state              0\n",
      "dtype: int64\n",
      "\n"
     ]
    },
    {
     "ename": "KeyboardInterrupt",
     "evalue": "",
     "output_type": "error",
     "traceback": [
      "\u001b[31m---------------------------------------------------------------------------\u001b[39m",
      "\u001b[31mKeyboardInterrupt\u001b[39m                         Traceback (most recent call last)",
      "\u001b[36mCell\u001b[39m\u001b[36m \u001b[39m\u001b[32mIn[8]\u001b[39m\u001b[32m, line 69\u001b[39m\n\u001b[32m     67\u001b[39m     values = \u001b[38;5;28mtuple\u001b[39m(\u001b[38;5;28;01mNone\u001b[39;00m \u001b[38;5;28;01mif\u001b[39;00m pd.isna(x) \u001b[38;5;28;01melse\u001b[39;00m x \u001b[38;5;28;01mfor\u001b[39;00m x \u001b[38;5;129;01min\u001b[39;00m row)\n\u001b[32m     68\u001b[39m     sql = \u001b[33mf\u001b[39m\u001b[33m\"\u001b[39m\u001b[33mINSERT INTO `\u001b[39m\u001b[38;5;132;01m{\u001b[39;00mtable_name\u001b[38;5;132;01m}\u001b[39;00m\u001b[33m` (\u001b[39m\u001b[38;5;132;01m{\u001b[39;00m\u001b[33m'\u001b[39m\u001b[33m, \u001b[39m\u001b[33m'\u001b[39m.join([\u001b[33m'\u001b[39m\u001b[33m`\u001b[39m\u001b[33m'\u001b[39m\u001b[38;5;250m \u001b[39m+\u001b[38;5;250m \u001b[39mcol\u001b[38;5;250m \u001b[39m+\u001b[38;5;250m \u001b[39m\u001b[33m'\u001b[39m\u001b[33m`\u001b[39m\u001b[33m'\u001b[39m\u001b[38;5;250m \u001b[39m\u001b[38;5;28;01mfor\u001b[39;00m\u001b[38;5;250m \u001b[39mcol\u001b[38;5;250m \u001b[39m\u001b[38;5;129;01min\u001b[39;00m\u001b[38;5;250m \u001b[39mdf.columns])\u001b[38;5;132;01m}\u001b[39;00m\u001b[33m) VALUES (\u001b[39m\u001b[38;5;132;01m{\u001b[39;00m\u001b[33m'\u001b[39m\u001b[33m, \u001b[39m\u001b[33m'\u001b[39m.join([\u001b[33m'\u001b[39m\u001b[38;5;132;01m%s\u001b[39;00m\u001b[33m'\u001b[39m]\u001b[38;5;250m \u001b[39m*\u001b[38;5;250m \u001b[39m\u001b[38;5;28mlen\u001b[39m(row))\u001b[38;5;132;01m}\u001b[39;00m\u001b[33m)\u001b[39m\u001b[33m\"\u001b[39m\n\u001b[32m---> \u001b[39m\u001b[32m69\u001b[39m     \u001b[43mcursor\u001b[49m\u001b[43m.\u001b[49m\u001b[43mexecute\u001b[49m\u001b[43m(\u001b[49m\u001b[43msql\u001b[49m\u001b[43m,\u001b[49m\u001b[43m \u001b[49m\u001b[43mvalues\u001b[49m\u001b[43m)\u001b[49m\n\u001b[32m     71\u001b[39m \u001b[38;5;66;03m# Commit the transaction for the current CSV file\u001b[39;00m\n\u001b[32m     72\u001b[39m conn.commit()\n",
      "\u001b[36mFile \u001b[39m\u001b[32m~\\AppData\\Local\\Programs\\Python\\Python313\\Lib\\site-packages\\mysql\\connector\\cursor_cext.py:353\u001b[39m, in \u001b[36mCMySQLCursor.execute\u001b[39m\u001b[34m(self, operation, params, map_results)\u001b[39m\n\u001b[32m    345\u001b[39m \u001b[38;5;28mself\u001b[39m._executed = (\n\u001b[32m    346\u001b[39m     \u001b[38;5;28mself\u001b[39m._stmt_partition[\u001b[33m\"\u001b[39m\u001b[33msingle_stmts\u001b[39m\u001b[33m\"\u001b[39m].popleft()\n\u001b[32m    347\u001b[39m     \u001b[38;5;28;01mif\u001b[39;00m map_results\n\u001b[32m    348\u001b[39m     \u001b[38;5;28;01melse\u001b[39;00m \u001b[38;5;28mself\u001b[39m._stmt_partition[\u001b[33m\"\u001b[39m\u001b[33mmappable_stmt\u001b[39m\u001b[33m\"\u001b[39m]\n\u001b[32m    349\u001b[39m )\n\u001b[32m    351\u001b[39m \u001b[38;5;28;01mtry\u001b[39;00m:\n\u001b[32m    352\u001b[39m     \u001b[38;5;28mself\u001b[39m._handle_result(\n\u001b[32m--> \u001b[39m\u001b[32m353\u001b[39m         \u001b[38;5;28;43mself\u001b[39;49m\u001b[43m.\u001b[49m\u001b[43m_connection\u001b[49m\u001b[43m.\u001b[49m\u001b[43mcmd_query\u001b[49m\u001b[43m(\u001b[49m\n\u001b[32m    354\u001b[39m \u001b[43m            \u001b[49m\u001b[38;5;28;43mself\u001b[39;49m\u001b[43m.\u001b[49m\u001b[43m_stmt_partition\u001b[49m\u001b[43m[\u001b[49m\u001b[33;43m\"\u001b[39;49m\u001b[33;43mmappable_stmt\u001b[39;49m\u001b[33;43m\"\u001b[39;49m\u001b[43m]\u001b[49m\u001b[43m,\u001b[49m\n\u001b[32m    355\u001b[39m \u001b[43m            \u001b[49m\u001b[43mraw\u001b[49m\u001b[43m=\u001b[49m\u001b[38;5;28;43mself\u001b[39;49m\u001b[43m.\u001b[49m\u001b[43m_raw\u001b[49m\u001b[43m,\u001b[49m\n\u001b[32m    356\u001b[39m \u001b[43m            \u001b[49m\u001b[43mbuffered\u001b[49m\u001b[43m=\u001b[49m\u001b[38;5;28;43mself\u001b[39;49m\u001b[43m.\u001b[49m\u001b[43m_buffered\u001b[49m\u001b[43m,\u001b[49m\n\u001b[32m    357\u001b[39m \u001b[43m            \u001b[49m\u001b[43mraw_as_string\u001b[49m\u001b[43m=\u001b[49m\u001b[38;5;28;43mself\u001b[39;49m\u001b[43m.\u001b[49m\u001b[43m_raw_as_string\u001b[49m\u001b[43m,\u001b[49m\n\u001b[32m    358\u001b[39m \u001b[43m        \u001b[49m\u001b[43m)\u001b[49m\n\u001b[32m    359\u001b[39m     )\n\u001b[32m    360\u001b[39m \u001b[38;5;28;01mexcept\u001b[39;00m MySQLInterfaceError \u001b[38;5;28;01mas\u001b[39;00m err:\n\u001b[32m    361\u001b[39m     \u001b[38;5;28;01mif\u001b[39;00m \u001b[38;5;28mhasattr\u001b[39m(err, \u001b[33m\"\u001b[39m\u001b[33merrno\u001b[39m\u001b[33m\"\u001b[39m):\n",
      "\u001b[36mFile \u001b[39m\u001b[32m~\\AppData\\Local\\Programs\\Python\\Python313\\Lib\\site-packages\\mysql\\connector\\opentelemetry\\context_propagation.py:97\u001b[39m, in \u001b[36mwith_context_propagation.<locals>.wrapper\u001b[39m\u001b[34m(cnx, *args, **kwargs)\u001b[39m\n\u001b[32m     95\u001b[39m \u001b[38;5;66;03m# pylint: disable=possibly-used-before-assignment\u001b[39;00m\n\u001b[32m     96\u001b[39m \u001b[38;5;28;01mif\u001b[39;00m \u001b[38;5;129;01mnot\u001b[39;00m OTEL_ENABLED \u001b[38;5;129;01mor\u001b[39;00m \u001b[38;5;129;01mnot\u001b[39;00m cnx.otel_context_propagation:\n\u001b[32m---> \u001b[39m\u001b[32m97\u001b[39m     \u001b[38;5;28;01mreturn\u001b[39;00m \u001b[43mmethod\u001b[49m\u001b[43m(\u001b[49m\u001b[43mcnx\u001b[49m\u001b[43m,\u001b[49m\u001b[43m \u001b[49m\u001b[43m*\u001b[49m\u001b[43margs\u001b[49m\u001b[43m,\u001b[49m\u001b[43m \u001b[49m\u001b[43m*\u001b[49m\u001b[43m*\u001b[49m\u001b[43mkwargs\u001b[49m\u001b[43m)\u001b[49m\n\u001b[32m     99\u001b[39m current_span = trace.get_current_span()\n\u001b[32m    100\u001b[39m tp_header = \u001b[38;5;28;01mNone\u001b[39;00m\n",
      "\u001b[36mFile \u001b[39m\u001b[32m~\\AppData\\Local\\Programs\\Python\\Python313\\Lib\\site-packages\\mysql\\connector\\connection_cext.py:772\u001b[39m, in \u001b[36mCMySQLConnection.cmd_query\u001b[39m\u001b[34m(self, query, raw, buffered, raw_as_string, **kwargs)\u001b[39m\n\u001b[32m    769\u001b[39m     \u001b[38;5;28mself\u001b[39m._query = query\n\u001b[32m    770\u001b[39m     \u001b[38;5;28mself\u001b[39m._local_infile_filenames = \u001b[38;5;28;01mNone\u001b[39;00m\n\u001b[32m--> \u001b[39m\u001b[32m772\u001b[39m     \u001b[38;5;28;43mself\u001b[39;49m\u001b[43m.\u001b[49m\u001b[43m_cmysql\u001b[49m\u001b[43m.\u001b[49m\u001b[43mquery\u001b[49m\u001b[43m(\u001b[49m\n\u001b[32m    773\u001b[39m \u001b[43m        \u001b[49m\u001b[43mquery\u001b[49m\u001b[43m,\u001b[49m\n\u001b[32m    774\u001b[39m \u001b[43m        \u001b[49m\u001b[43mraw\u001b[49m\u001b[43m=\u001b[49m\u001b[43mraw\u001b[49m\u001b[43m,\u001b[49m\n\u001b[32m    775\u001b[39m \u001b[43m        \u001b[49m\u001b[43mbuffered\u001b[49m\u001b[43m=\u001b[49m\u001b[43mbuffered\u001b[49m\u001b[43m,\u001b[49m\n\u001b[32m    776\u001b[39m \u001b[43m        \u001b[49m\u001b[43mraw_as_string\u001b[49m\u001b[43m=\u001b[49m\u001b[43mraw_as_string\u001b[49m\u001b[43m,\u001b[49m\n\u001b[32m    777\u001b[39m \u001b[43m        \u001b[49m\u001b[43mquery_attrs\u001b[49m\u001b[43m=\u001b[49m\u001b[38;5;28;43mself\u001b[39;49m\u001b[43m.\u001b[49m\u001b[43mquery_attrs\u001b[49m\u001b[43m,\u001b[49m\n\u001b[32m    778\u001b[39m \u001b[43m    \u001b[49m\u001b[43m)\u001b[49m\n\u001b[32m    779\u001b[39m \u001b[38;5;28;01mexcept\u001b[39;00m MySQLInterfaceError \u001b[38;5;28;01mas\u001b[39;00m err:\n\u001b[32m    780\u001b[39m     \u001b[38;5;28;01mif\u001b[39;00m \u001b[38;5;28mhasattr\u001b[39m(err, \u001b[33m\"\u001b[39m\u001b[33merrno\u001b[39m\u001b[33m\"\u001b[39m):\n",
      "\u001b[31mKeyboardInterrupt\u001b[39m: "
     ]
    }
   ],
   "source": [
    "# dumping data from multiple csv files to sql workbench for ecommerce sql+python project \n",
    "# files are in python+sql folder\n",
    "\n",
    "import pandas as pd\n",
    "import mysql.connector\n",
    "import os\n",
    "\n",
    "# List of CSV files and their corresponding table names\n",
    "csv_files = [\n",
    "    ('customers.csv', 'customers'),\n",
    "    ('orders.csv', 'orders'),\n",
    "    ('sellers.csv', 'sellers'),\n",
    "    ('products.csv', 'products'),\n",
    "    ('geolocation.csv', 'geolocation'),\n",
    "    ('payments.csv', 'payments'),\n",
    "    ('order_items.csv', 'order_items')# Added payments.csv for specific handling\n",
    "]\n",
    "\n",
    "# Connect to the MySQL database\n",
    "conn = mysql.connector.connect(\n",
    "    host='localhost',\n",
    "    user='root',\n",
    "    password='SAMDynamo7',\n",
    "    database='ecommerce'\n",
    ")\n",
    "cursor = conn.cursor()\n",
    "\n",
    "# Folder containing the CSV files\n",
    "folder_path = 'C:/Users/arshi/OneDrive/Desktop/python+sql'        # change the backward slashes from the copied path to forward slashes \n",
    "\n",
    "def get_sql_type(dtype):\n",
    "    if pd.api.types.is_integer_dtype(dtype):\n",
    "        return 'INT'\n",
    "    elif pd.api.types.is_float_dtype(dtype):\n",
    "        return 'FLOAT'\n",
    "    elif pd.api.types.is_bool_dtype(dtype):\n",
    "        return 'BOOLEAN'\n",
    "    elif pd.api.types.is_datetime64_any_dtype(dtype):\n",
    "        return 'DATETIME'\n",
    "    else:\n",
    "        return 'TEXT'\n",
    "\n",
    "for csv_file, table_name in csv_files:\n",
    "    file_path = os.path.join(folder_path, csv_file)\n",
    "    \n",
    "    # Read the CSV file into a pandas DataFrame\n",
    "    df = pd.read_csv(file_path)\n",
    "    \n",
    "    # Replace NaN with None to handle SQL NULL\n",
    "    df = df.where(pd.notnull(df), None)\n",
    "    \n",
    "    # Debugging: Check for NaN values\n",
    "    print(f\"Processing {csv_file}\")\n",
    "    print(f\"NaN values before replacement:\\n{df.isnull().sum()}\\n\")\n",
    "\n",
    "    # Clean column names\n",
    "    df.columns = [col.replace(' ', '_').replace('-', '_').replace('.', '_') for col in df.columns]\n",
    "\n",
    "    # Generate the CREATE TABLE statement with appropriate data types\n",
    "    columns = ', '.join([f'`{col}` {get_sql_type(df[col].dtype)}' for col in df.columns])\n",
    "    create_table_query = f'CREATE TABLE IF NOT EXISTS `{table_name}` ({columns})'\n",
    "    cursor.execute(create_table_query)\n",
    "\n",
    "    # Insert DataFrame data into the MySQL table\n",
    "    for _, row in df.iterrows():\n",
    "        # Convert row to tuple and handle NaN/None explicitly\n",
    "        values = tuple(None if pd.isna(x) else x for x in row)\n",
    "        sql = f\"INSERT INTO `{table_name}` ({', '.join(['`' + col + '`' for col in df.columns])}) VALUES ({', '.join(['%s'] * len(row))})\"\n",
    "        cursor.execute(sql, values)\n",
    "\n",
    "    # Commit the transaction for the current CSV file\n",
    "    conn.commit()\n",
    "\n",
    "# Close the connection\n",
    "conn.close()"
   ]
  },
  {
   "cell_type": "code",
   "execution_count": 1,
   "id": "ab689bd1-f9aa-4615-9b33-fe864c782085",
   "metadata": {},
   "outputs": [],
   "source": [
    "import matplotlib.pyplot as plt\n",
    "import seaborn as sns \n",
    "import mysql.connector\n",
    "\n",
    "db = mysql.connector.connect(\n",
    "    host='localhost',\n",
    "    user='root',\n",
    "    password='SAMDynamo7',\n",
    "    database='ecommerce'\n",
    ")\n",
    "cur = db.cursor()"
   ]
  },
  {
   "cell_type": "markdown",
   "id": "2c037ddb-c67e-4803-ab92-1c9da146d344",
   "metadata": {},
   "source": [
    "# BASIC QUERIES"
   ]
  },
  {
   "cell_type": "markdown",
   "id": "1fd0c732-b463-42d5-8f5f-96e8892d59cc",
   "metadata": {},
   "source": [
    "# 1. List all unique cities where customers are located."
   ]
  },
  {
   "cell_type": "code",
   "execution_count": null,
   "id": "fdce5660-6487-49dd-b65d-e100139c93bb",
   "metadata": {},
   "outputs": [],
   "source": [
    "query=''' select distinct customer_city from customers'''\n",
    "\n",
    "cur.execute(query)\n",
    "\n",
    "data= cur.fetchall()\n",
    "\n",
    "df=pd.DataFrame(data)\n",
    "df.head(10)"
   ]
  },
  {
   "cell_type": "markdown",
   "id": "663d7983-a5cc-49ea-870b-0e44e4dc81f9",
   "metadata": {},
   "source": [
    "# 2. Count the number of orders placed in 2017.                                                                                                                    "
   ]
  },
  {
   "cell_type": "code",
   "execution_count": null,
   "id": "d1d3ee11-0206-4f4c-9c36-98083260bbd6",
   "metadata": {},
   "outputs": [],
   "source": [
    "query=''' select count(order_id) from orders where year(order_purchase_timestamp)=2017'''\n",
    "\n",
    "cur.execute(query)\n",
    "\n",
    "data= cur.fetchall()\n",
    "\n",
    "'total orders placed in 2017 are ',data[0][0]\n"
   ]
  },
  {
   "cell_type": "markdown",
   "id": "50065e9e-a994-4d68-937e-0c9a4695f05d",
   "metadata": {},
   "source": [
    "# 3. Find the total sales per category."
   ]
  },
  {
   "cell_type": "code",
   "execution_count": 2,
   "id": "f9a5588e-7312-4d5c-9d3e-8adf18f36b63",
   "metadata": {},
   "outputs": [
    {
     "name": "stdout",
     "output_type": "stream",
     "text": [
      "                       category        sales\n",
      "0                     perfumery   8107818.56\n",
      "1          Furniture Decoration  22882822.27\n",
      "2                     telephony   7790112.81\n",
      "3                bed table bath  27400858.74\n",
      "4                    automotive  13636709.30\n",
      "..                          ...          ...\n",
      "69               cds music dvds     19190.88\n",
      "70                   La Cuisine     46616.48\n",
      "71  Fashion Children's Clothing     12570.72\n",
      "72                     PC Gamer     34790.88\n",
      "73       insurance and services      5192.16\n",
      "\n",
      "[74 rows x 2 columns]\n"
     ]
    }
   ],
   "source": [
    "import pandas as pd \n",
    "# multiple join (joining 3 tables)\n",
    "query='''\n",
    "select products.product_category as category,\n",
    "round(sum(payments.payment_value),2) as sales\n",
    "from products join order_items on products.product_id = order_items.product_id                \n",
    "join payments on payments.order_id = order_items.order_id \n",
    "group by category \n",
    "'''\n",
    "\n",
    "cur.execute(query)\n",
    "\n",
    "data= cur.fetchall()\n",
    "\n",
    "df=pd.DataFrame(data, columns=['category','sales'])\n",
    "print(df)"
   ]
  },
  {
   "cell_type": "markdown",
   "id": "60d7a1af-441e-44ce-8225-c5349dd021e0",
   "metadata": {},
   "source": [
    "# 4. Calculate the percentage of orders that were paid in installments."
   ]
  },
  {
   "cell_type": "code",
   "execution_count": null,
   "id": "611dd349-1b44-4666-9389-54aeba332b8f",
   "metadata": {},
   "outputs": [],
   "source": [
    "query = '''select sum(case when payment_installments >= 1 then 1 else 0 end )/ count(*) * 100  from payments ;'''\n",
    "\n",
    "cur.execute(query)\n",
    "\n",
    "data= cur.fetchall()\n",
    "\n",
    "'the percentange of orders which are bought in installments are :',data  [0][0]"
   ]
  },
  {
   "cell_type": "markdown",
   "id": "635a6f25-3a82-4783-848c-3b1d48c0d1af",
   "metadata": {},
   "source": [
    "# 5. Count the number of customers from each state. "
   ]
  },
  {
   "cell_type": "code",
   "execution_count": null,
   "id": "e855091e-1320-4bef-a604-1fd8172a4d36",
   "metadata": {},
   "outputs": [],
   "source": [
    "query = '''select count(customer_id),customer_state from customers group by customer_state;'''\n",
    "\n",
    "cur.execute(query)\n",
    "\n",
    "data= cur.fetchall()\n",
    "\n",
    "df=pd.DataFrame(data ,columns=['customers','state'])\n",
    "df\n",
    "\n",
    "df=df.sort_values(by='customers',ascending= False)\n",
    "\n",
    "plt.figure(figsize=(9,5))\n",
    "plt.xticks(rotation=90)\n",
    "plt.bar(df['state'],df['customers'])\n",
    "plt.show()"
   ]
  },
  {
   "cell_type": "markdown",
   "id": "9493d681-bdec-4f1f-a6be-13e84710b02b",
   "metadata": {},
   "source": [
    "# INTERMIDIATE QUERIES"
   ]
  },
  {
   "cell_type": "markdown",
   "id": "3c071e66-baaa-4d16-8634-ae96ede1d038",
   "metadata": {},
   "source": [
    "# 1. Calculate the number of orders per month in 2018."
   ]
  },
  {
   "cell_type": "code",
   "execution_count": null,
   "id": "0a7266cb-1903-4d4e-90a1-ffecb7675cbd",
   "metadata": {},
   "outputs": [],
   "source": [
    "query=''' select month(order_purchase_timestamp), count(order_id) from orders where year(order_purchase_timestamp)=2018 group by month(order_purchase_timestamp) '''\n",
    "\n",
    "cur.execute(query)\n",
    "\n",
    "data= cur.fetchall()\n",
    "df = pd.DataFrame(data , columns=['month', 'order_count'])\n",
    "\n",
    "o=[1,2,3,4,5,6,7,8]\n",
    "ax=sns.barplot(x=df['month'],y=df['order_count'],data=df , order=o, color='red')\n",
    "ax.bar_label(ax.containers[0])\n",
    "plt.show()"
   ]
  },
  {
   "cell_type": "markdown",
   "id": "6b7ac47b-c310-4f6c-8f30-f3a7446bf54c",
   "metadata": {},
   "source": [
    "# 2. Find the average number of products per order, grouped by customer city."
   ]
  },
  {
   "cell_type": "code",
   "execution_count": null,
   "id": "b0db007d-3e03-4151-84bb-ae39e7d7737e",
   "metadata": {},
   "outputs": [],
   "source": [
    "query = '''with count_per_order as (\n",
    "select orders.order_id,orders.customer_id,count(order_items.order_id) as oc\n",
    "from orders join order_items on \n",
    "orders.order_id = order_items.order_id\n",
    "group by orders.order_id,orders.customer_id)\n",
    "\n",
    "select customers.customer_city, round(avg(count_per_order.oc),2) as average \n",
    "from customers join count_per_order \n",
    "on customers.customer_id = count_per_order.customer_id\n",
    "group by customers.customer_city order by average;'''\n",
    "\n",
    "cur.execute(query)\n",
    "\n",
    "data= cur.fetchall()\n",
    "df = pd.DataFrame(data, columns =['city','average_products_per_order'])\n",
    "df"
   ]
  },
  {
   "cell_type": "markdown",
   "id": "c123aaae-03d7-447f-8371-25f4431970d3",
   "metadata": {},
   "source": [
    "# 3.Calculate the percentage of total revenue contributed by each product category."
   ]
  },
  {
   "cell_type": "code",
   "execution_count": null,
   "id": "893ca302-e781-4adf-9c2c-c53982b75dc5",
   "metadata": {},
   "outputs": [],
   "source": [
    "query='''\n",
    "select upper(products.product_category) as category,\n",
    "round((sum(payments.payment_value)/(select sum(payment_value)from payments))*100,2) as sales\n",
    "from products join order_items on products.product_id = order_items.product_id                \n",
    "join payments on payments.order_id = order_items.order_id \n",
    "group by category\n",
    "'''\n",
    "\n",
    "cur.execute(query)\n",
    "\n",
    "data= cur.fetchall()\n",
    "\n",
    "df=pd.DataFrame(data, columns=['Category','Sales %'])\n",
    "print(df)"
   ]
  },
  {
   "cell_type": "markdown",
   "id": "7f3e9234-6394-4be0-a9b7-fde5070cb8bb",
   "metadata": {},
   "source": [
    "# 4. Identify the correlation between product price and the number of times a product has been purchased."
   ]
  },
  {
   "cell_type": "code",
   "execution_count": null,
   "id": "844aee7b-a02a-4b53-8808-f13caa0f864c",
   "metadata": {},
   "outputs": [],
   "source": [
    "import numpy as np\n",
    "query='''\n",
    "select products.product_category,\n",
    "count(order_items.product_id),\n",
    "round(avg(order_items.price),2)\n",
    "from products \n",
    "join order_items on order_items.product_id = products.product_id\n",
    "group by products.product_category; \n",
    "'''\n",
    "\n",
    "cur.execute(query)\n",
    "\n",
    "data= cur.fetchall()\n",
    "\n",
    "df=pd.DataFrame(data, columns=['Category','Order_Count','Price'])\n",
    "df\n",
    "\n",
    "arr1=df['Order_Count']             # to find correlation \n",
    "arr2=df['Price']\n",
    "\n",
    "a=np.corrcoef([arr1,arr2])\n",
    "print('the correlation between price and the number of times a product has been purchased is :',a[0][1])"
   ]
  },
  {
   "cell_type": "markdown",
   "id": "e259a41b-aa53-424b-aa0c-c44d1a7eb00b",
   "metadata": {},
   "source": [
    "# 5. Calculate the total revenue generated by each seller, and rank them by revenue."
   ]
  },
  {
   "cell_type": "code",
   "execution_count": null,
   "id": "852294d4-b063-4395-9157-f54a8b6828e7",
   "metadata": {},
   "outputs": [],
   "source": [
    "query='''\n",
    "select * , dense_rank() over (order by revenue desc) from \n",
    "(select order_items.seller_id, sum(payments.payment_value) as revenue\n",
    "from order_items join payments on \n",
    "order_items.order_id = payments.order_id\n",
    "group by seller_id) as a'''\n",
    "\n",
    "cur.execute(query)\n",
    "\n",
    "data= cur.fetchall()\n",
    "df=pd.DataFrame(data,columns=['Seller_Id','Total Revenue','Rank'])\n",
    "df=df.head(10)\n",
    "sns.barplot(x='Seller_Id',y='Total Revenue', data=df, color='red')\n",
    "plt.xticks(rotation=90)\n",
    "\n",
    "plt.show()\n",
    "df"
   ]
  },
  {
   "cell_type": "markdown",
   "id": "e854c983-f917-461b-a036-25e1c849cd8b",
   "metadata": {},
   "source": [
    "# ADVANCED QUERIES"
   ]
  },
  {
   "cell_type": "markdown",
   "id": "a10b18be-e7bd-47b6-bcc4-eeef534271d5",
   "metadata": {},
   "source": [
    "# 1. Calculate the moving average of order values for each customer over their order history."
   ]
  },
  {
   "cell_type": "code",
   "execution_count": null,
   "id": "884c28b3-312c-4c88-be19-46aca46d2aca",
   "metadata": {},
   "outputs": [],
   "source": [
    "\n",
    "query='''select customer_id ,order_purchase_timestamp, payment,\n",
    "avg(payment) over(partition by customer_id order by order_purchase_timestamp\n",
    "rows between 2 preceding and current row) as moving_avg \n",
    "from\n",
    "(select orders.customer_id , orders.order_purchase_timestamp,\n",
    "payments.payment_value as payment\n",
    "from payments join orders on \n",
    "orders.order_id = payments.order_id) as a;\n",
    "'''\n",
    "\n",
    "cur.execute(query)\n",
    "\n",
    "data= cur.fetchall()\n",
    "df= pd.DataFrame(data,columns=['Customer_Id','order_purchase_timestamp','payment','moving_avg'])\n",
    "df.head(20)"
   ]
  },
  {
   "cell_type": "markdown",
   "id": "a78c9873-decc-411b-99f3-740d74637fc1",
   "metadata": {},
   "source": [
    "# 2. Calculate the cumulative sales per month for each year."
   ]
  },
  {
   "cell_type": "code",
   "execution_count": null,
   "id": "2a73fea3-9f63-459e-9e3d-dcb1c6aaa265",
   "metadata": {},
   "outputs": [],
   "source": [
    "query='''\n",
    "select years,months ,payment ,sum(payment)\n",
    "over(order by years, months) as cumulative_sum from\n",
    "(select year(orders.order_purchase_timestamp) as years, month(orders.order_purchase_timestamp)as months,\n",
    "round(sum(payments.payment_value),2)as payment from payments join orders on \n",
    "payments.order_id = orders.order_id\n",
    "group by years,months order by years,months)as a;\n",
    "'''\n",
    "cur.execute(query)\n",
    "data=cur.fetchall()\n",
    "df=pd.DataFrame(data,columns=['Year','Column','Revenue','Cumulative_Sales'])\n",
    "df"
   ]
  },
  {
   "cell_type": "markdown",
   "id": "e75d7c09-2daa-4ffa-a3fb-9e7a97706782",
   "metadata": {},
   "source": [
    "# 3. Calculate the year-over-year growth rate of total sales."
   ]
  },
  {
   "cell_type": "code",
   "execution_count": 18,
   "id": "44176c00-cf50-4fe3-8137-e4b1455976e0",
   "metadata": {},
   "outputs": [
    {
     "data": {
      "text/html": [
       "<div>\n",
       "<style scoped>\n",
       "    .dataframe tbody tr th:only-of-type {\n",
       "        vertical-align: middle;\n",
       "    }\n",
       "\n",
       "    .dataframe tbody tr th {\n",
       "        vertical-align: top;\n",
       "    }\n",
       "\n",
       "    .dataframe thead th {\n",
       "        text-align: right;\n",
       "    }\n",
       "</style>\n",
       "<table border=\"1\" class=\"dataframe\">\n",
       "  <thead>\n",
       "    <tr style=\"text-align: right;\">\n",
       "      <th></th>\n",
       "      <th>Years</th>\n",
       "      <th>Year_over_year_%_growth</th>\n",
       "    </tr>\n",
       "  </thead>\n",
       "  <tbody>\n",
       "    <tr>\n",
       "      <th>0</th>\n",
       "      <td>2016</td>\n",
       "      <td>NaN</td>\n",
       "    </tr>\n",
       "    <tr>\n",
       "      <th>1</th>\n",
       "      <td>2017</td>\n",
       "      <td>12112.703759</td>\n",
       "    </tr>\n",
       "    <tr>\n",
       "      <th>2</th>\n",
       "      <td>2018</td>\n",
       "      <td>20.000924</td>\n",
       "    </tr>\n",
       "  </tbody>\n",
       "</table>\n",
       "</div>"
      ],
      "text/plain": [
       "   Years  Year_over_year_%_growth\n",
       "0   2016                      NaN\n",
       "1   2017             12112.703759\n",
       "2   2018                20.000924"
      ]
     },
     "execution_count": 18,
     "metadata": {},
     "output_type": "execute_result"
    }
   ],
   "source": [
    "import pandas as pd \n",
    "query='''\n",
    "with a as (select year(orders.order_purchase_timestamp) as years,\n",
    "round(sum(payments.payment_value),2)as payment from payments join orders on \n",
    "payments.order_id = orders.order_id\n",
    "group by years order by years)\n",
    "\n",
    "select years,((payment - lag(payment,1) over(order by years))/\n",
    "lag(payment,1) over(order by years))*100 from a ;\n",
    "'''\n",
    "\n",
    "cur.execute(query)\n",
    "data=cur.fetchall()\n",
    "\n",
    "df=pd.DataFrame(data,columns=['Years','Year_over_year_%_growth'])\n",
    "df"
   ]
  },
  {
   "cell_type": "markdown",
   "id": "a0d59ada-5254-4b3a-b71b-c57f1717c408",
   "metadata": {},
   "source": [
    "#  4.Calculate the retention rate of customers, defined as the percentage of customers who make another purchase within 6 months of their first purchase."
   ]
  },
  {
   "cell_type": "code",
   "execution_count": 3,
   "id": "c43ee94b-4fe8-48ac-acf5-83ed1b2eabf5",
   "metadata": {},
   "outputs": [
    {
     "data": {
      "text/plain": [
       "[(None,)]"
      ]
     },
     "execution_count": 3,
     "metadata": {},
     "output_type": "execute_result"
    }
   ],
   "source": [
    "query='''\n",
    "with a as(select customers.customer_id ,\n",
    "min(order_purchase_timestamp) as first_order\n",
    "from orders \n",
    "join customers \n",
    "on customers.customer_id = orders.customer_id\n",
    "group by customers.customer_id),                                  \n",
    "\n",
    "b as (select a.customer_id , \n",
    "count( distinct order_purchase_timestamp) as next_order\n",
    "from a join orders on \n",
    "orders.customer_id=a.customer_id\n",
    "and orders.order_purchase_timestamp > first_order\n",
    "and orders.order_purchase_timestamp < \n",
    "date_add(first_order, interval 6 month)\n",
    "group by a.customer_id)\n",
    "\n",
    "select 100*(count(distinct a.customer_id)/count(distinct b.customer_id))\n",
    "from a left join b on \n",
    "a.customer_id=b.customer_id\n",
    "; \n",
    "\n",
    "'''\n",
    "# since none of our customers are repeated ,th query will return null or none \n",
    "cur.execute(query)\n",
    "data=cur.fetchall()\n",
    "data "
   ]
  },
  {
   "cell_type": "markdown",
   "id": "90e02cdc-db35-437e-a647-51579ce3eabf",
   "metadata": {},
   "source": [
    "# 5. Identify the top 3 customers who spent the most money in each year."
   ]
  },
  {
   "cell_type": "code",
   "execution_count": 7,
   "id": "17b1a31b-aeba-4a5b-9885-6b6abb98be16",
   "metadata": {},
   "outputs": [
    {
     "data": {
      "image/png": "[encoded data removed]",
      "text/plain": [
       "<Figure size 640x480 with 1 Axes>"
      ]
     },
     "metadata": {},
     "output_type": "display_data"
    }
   ],
   "source": [
    "query='''\n",
    "select years,customer_id , payment , D_Rank  \n",
    "from  \n",
    "(select year(orders.order_purchase_timestamp) as years,\n",
    "orders.customer_id ,\n",
    "sum(payments.payment_value) as payment ,\n",
    "dense_rank() over(partition by year(orders.order_purchase_timestamp)\n",
    "order by sum(payments.payment_value)desc) as D_Rank\n",
    "from orders join payments on \n",
    "payments.order_id = orders.order_id\n",
    "group by orders.order_purchase_timestamp,\n",
    "orders.customer_id) as a\n",
    "where D_Rank <= 3 \n",
    ";\n",
    "'''\n",
    "\n",
    "cur.execute(query)\n",
    "data=cur.fetchall()\n",
    "df=pd.DataFrame(data, columns=['Year','Customer_id','Amount','Rank'])\n",
    "df\n",
    "sns.barplot(x='Customer_id',y='Amount',data=df,hue='Year')\n",
    "plt.xticks(rotation = 90)\n",
    "plt.show()"
   ]
  },
  {
   "cell_type": "code",
   "execution_count": null,
   "id": "0bd72766-0406-4740-a78a-47bde5993f4c",
   "metadata": {},
   "outputs": [],
   "source": []
  }
 ],
 "metadata": {
  "kernelspec": {
   "display_name": "Python 3 (ipykernel)",
   "language": "python",
   "name": "python3"
  },
  "language_info": {
   "codemirror_mode": {
    "name": "ipython",
    "version": 3
   },
   "file_extension": ".py",
   "mimetype": "text/x-python",
   "name": "python",
   "nbconvert_exporter": "python",
   "pygments_lexer": "ipython3",
   "version": "3.13.3"
  }
 },
 "nbformat": 4,
 "nbformat_minor": 5
}
